{
 "cells": [
  {
   "cell_type": "code",
   "execution_count": 421,
   "metadata": {},
   "outputs": [],
   "source": [
    "import numpy as np"
   ]
  },
  {
   "cell_type": "markdown",
   "metadata": {},
   "source": [
    "# Day 6"
   ]
  },
  {
   "cell_type": "markdown",
   "metadata": {},
   "source": [
    "# Part I\n",
    "If there is something directly in front of you, turn right 90 degrees.\n",
    "Otherwise, take a step forward."
   ]
  },
  {
   "cell_type": "code",
   "execution_count": null,
   "metadata": {},
   "outputs": [],
   "source": [
    "data_raw = open(\"day6.txt\", \"r\")\n",
    "data = data_raw.read()  \n",
    "\n",
    "data = data.split('\\n') \n",
    "data_og = np.array([list(string) for string in data])"
   ]
  },
  {
   "cell_type": "code",
   "execution_count": 423,
   "metadata": {},
   "outputs": [],
   "source": [
    "for i in range(len(data)):\n",
    "    for j in range(len(data)):\n",
    "        if data[i][j] in [\">\", \"<\", \"^\", \"v\"]:\n",
    "            start_pos = [i, j]\n",
    "            start_dir = data[i][j]"
   ]
  },
  {
   "cell_type": "code",
   "execution_count": 424,
   "metadata": {},
   "outputs": [],
   "source": [
    "def check_pos(data, next_pos):\n",
    "    if 0 <= next_pos[0] < len(data):\n",
    "        if 0 <= next_pos[1] < len(data[next_pos[0]]):\n",
    "            return True\n",
    "    return False"
   ]
  },
  {
   "cell_type": "code",
   "execution_count": 425,
   "metadata": {},
   "outputs": [],
   "source": [
    "def process_next_step(data, next_pos, current_pos, current_dir, steps, change_dir):\n",
    "    if check_pos(data, next_pos) == False:\n",
    "        return False, current_pos, current_dir, steps \n",
    "    \n",
    "    if data[next_pos[0], next_pos[1]] == \"#\":\n",
    "        current_dir = change_dir[current_dir]\n",
    "    elif data[next_pos[0], next_pos[1]] == \".\":\n",
    "        data[next_pos[0], next_pos[1]] = \"X\"\n",
    "        steps += 1\n",
    "        current_pos = next_pos\n",
    "    elif data[next_pos[0], next_pos[1]] == \"X\":\n",
    "        current_pos = next_pos\n",
    "\n",
    "    return True, current_pos, current_dir, steps\n",
    "\n",
    "def walk(data, start_dir, start_pos):\n",
    "    current_pos = start_pos\n",
    "    current_dir = start_dir\n",
    "\n",
    "    change_dir = {\"^\": \">\", \">\": \"v\", \"v\": \"<\", \"<\": \"^\"}\n",
    "    data[current_pos[0], current_pos[1]] = 'X'\n",
    "\n",
    "    steps = 0\n",
    "    walking = True\n",
    "\n",
    "    visited_states = set()\n",
    "\n",
    "    while walking:\n",
    "        state = (tuple(current_pos), current_dir)\n",
    "        if state in visited_states:\n",
    "            return data, steps, visited_states, True\n",
    "        visited_states.add(state)\n",
    "\n",
    "        if current_dir == \"^\":\n",
    "            next_pos = [current_pos[0] - 1, current_pos[1]]\n",
    "            walking, current_pos, current_dir, steps = process_next_step(data, next_pos, current_pos, current_dir, steps, change_dir)\n",
    "\n",
    "        elif current_dir == \">\":\n",
    "            next_pos = [current_pos[0], current_pos[1] + 1]\n",
    "            walking, current_pos, current_dir, steps = process_next_step(data, next_pos, current_pos, current_dir, steps, change_dir)\n",
    "\n",
    "        elif current_dir == \"v\":\n",
    "            next_pos = [current_pos[0] + 1, current_pos[1]]\n",
    "            walking, current_pos, current_dir, steps = process_next_step(data, next_pos, current_pos, current_dir, steps, change_dir)\n",
    "\n",
    "        elif current_dir == \"<\":\n",
    "            next_pos = [current_pos[0], current_pos[1] - 1]\n",
    "            walking, current_pos, current_dir, steps = process_next_step(data, next_pos, current_pos, current_dir, steps, change_dir)\n",
    "\n",
    "    return data, steps, visited_states, False\n"
   ]
  },
  {
   "cell_type": "code",
   "execution_count": 426,
   "metadata": {},
   "outputs": [],
   "source": [
    "data_update, steps, visited_states, loop = walk(data_og, start_dir, start_pos)"
   ]
  },
  {
   "cell_type": "markdown",
   "metadata": {},
   "source": [
    "## Part II"
   ]
  },
  {
   "cell_type": "code",
   "execution_count": 427,
   "metadata": {},
   "outputs": [],
   "source": [
    "visited_states_pos = []\n",
    "for state in visited_states:\n",
    "    if [state[0][0], state[0][1]] != start_pos:\n",
    "        visited_states_pos.append(state[0])\n",
    "visited_states_pos = list(set(visited_states_pos))\n",
    "    "
   ]
  },
  {
   "cell_type": "code",
   "execution_count": null,
   "metadata": {},
   "outputs": [],
   "source": [
    "visited = []\n",
    "options = 0\n",
    "\n",
    "for location in visited_states_pos:\n",
    "\n",
    "    data_raw = open(\"day6.txt\", \"r\")\n",
    "    data = data_raw.read()  \n",
    "\n",
    "    data = data.split('\\n') \n",
    "    data = np.array([list(string) for string in data])\n",
    "\n",
    "    data[location[0]][location[1]] = \"#\"\n",
    "\n",
    "    if location != start_pos:\n",
    "        data_update, steps_update, visited_states, loop = walk(data, start_dir, start_pos)\n",
    "        if loop == True:\n",
    "            options = options + 1"
   ]
  }
 ],
 "metadata": {
  "kernelspec": {
   "display_name": "base",
   "language": "python",
   "name": "python3"
  },
  "language_info": {
   "codemirror_mode": {
    "name": "ipython",
    "version": 3
   },
   "file_extension": ".py",
   "mimetype": "text/x-python",
   "name": "python",
   "nbconvert_exporter": "python",
   "pygments_lexer": "ipython3",
   "version": "3.11.4"
  }
 },
 "nbformat": 4,
 "nbformat_minor": 2
}
