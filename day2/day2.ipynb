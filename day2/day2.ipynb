{
 "cells": [
  {
   "cell_type": "markdown",
   "metadata": {},
   "source": [
    "# Part I"
   ]
  },
  {
   "cell_type": "code",
   "execution_count": 64,
   "metadata": {},
   "outputs": [],
   "source": [
    "data = open(\"day2.txt\", \"r\")\n",
    "data_content = data.read()  \n",
    "lines = data_content.split('\\n') \n",
    "\n",
    "list_of_lists = [list(map(int, line.split())) for line in lines if line.strip()]  "
   ]
  },
  {
   "cell_type": "code",
   "execution_count": null,
   "metadata": {},
   "outputs": [],
   "source": [
    "safe = 0\n",
    "\n",
    "def compare_dec(my_list):\n",
    "\n",
    "    for i in range(len(my_list)-1):\n",
    "\n",
    "        if my_list[i] > my_list[i + 1]:\n",
    "            diff = my_list[i] -  my_list[i + 1]\n",
    "\n",
    "            if not (1 <= diff <= 3):\n",
    "                return 0\n",
    "        else:\n",
    "            return 0\n",
    "    \n",
    "    return 1\n",
    "  \n",
    "\n",
    "def compare_inc(my_list):\n",
    "\n",
    "    for i in range(len(my_list)-1):\n",
    "\n",
    "        if my_list[i] < my_list[i + 1]:\n",
    "            diff = my_list[i+1] -  my_list[i]\n",
    "\n",
    "            if not(1 <= diff <= 3):\n",
    "                return 0\n",
    "        else:\n",
    "            return 0\n",
    "        \n",
    "    return 1\n"
   ]
  },
  {
   "cell_type": "markdown",
   "metadata": {},
   "source": [
    "# Part II"
   ]
  },
  {
   "cell_type": "code",
   "execution_count": null,
   "metadata": {},
   "outputs": [],
   "source": [
    "def is_safe(my_list):\n",
    "    # Check if the report is already safe\n",
    "    if compare_dec(my_list) == 1 or compare_inc(my_list) == 1:\n",
    "        return 1  \n",
    "    \n",
    "    # Check if removing one level makes the report safe\n",
    "    for i in range(len(my_list)):\n",
    "        # Skip one item, return 1 if the list is safe at any point\n",
    "        modified_list = my_list[:i] + my_list[i + 1:]  \n",
    "        if compare_dec(modified_list) == 1 or compare_inc(modified_list) == 1:\n",
    "            return 1  \n",
    "        \n",
    "    return 0 "
   ]
  },
  {
   "cell_type": "code",
   "execution_count": 68,
   "metadata": {},
   "outputs": [],
   "source": [
    "def count_safe(data):\n",
    "    safe_reports = 0\n",
    "    for report in data:\n",
    "        if is_safe(report):\n",
    "            safe_reports += 1\n",
    "    return safe_reports"
   ]
  },
  {
   "cell_type": "code",
   "execution_count": 69,
   "metadata": {},
   "outputs": [
    {
     "data": {
      "text/plain": [
       "544"
      ]
     },
     "execution_count": 69,
     "metadata": {},
     "output_type": "execute_result"
    }
   ],
   "source": [
    "count_safe(list_of_lists)"
   ]
  }
 ],
 "metadata": {
  "kernelspec": {
   "display_name": "base",
   "language": "python",
   "name": "python3"
  },
  "language_info": {
   "codemirror_mode": {
    "name": "ipython",
    "version": 3
   },
   "file_extension": ".py",
   "mimetype": "text/x-python",
   "name": "python",
   "nbconvert_exporter": "python",
   "pygments_lexer": "ipython3",
   "version": "3.11.7"
  }
 },
 "nbformat": 4,
 "nbformat_minor": 2
}
