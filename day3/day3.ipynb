{
 "cells": [
  {
   "cell_type": "code",
   "execution_count": 5,
   "metadata": {},
   "outputs": [],
   "source": [
    "import re"
   ]
  },
  {
   "cell_type": "markdown",
   "metadata": {},
   "source": [
    "# Part I"
   ]
  },
  {
   "cell_type": "code",
   "execution_count": 21,
   "metadata": {},
   "outputs": [],
   "source": [
    "data = open(\"day3.txt\", \"r\")\n",
    "data_content = data.read()  \n",
    "\n",
    "test = \"xmul(2,4)%&mul[3,7]!@^do_not_mul(5,5)+mul(32,64]then(mul(11,8)mul(8,5))\""
   ]
  },
  {
   "cell_type": "code",
   "execution_count": 26,
   "metadata": {},
   "outputs": [],
   "source": [
    "pattern = r\"mul\\((-?\\d+),\\s*(-?\\d+)\\)\"\n",
    "matches = re.findall(pattern, data_content)"
   ]
  },
  {
   "cell_type": "code",
   "execution_count": 28,
   "metadata": {},
   "outputs": [
    {
     "name": "stdout",
     "output_type": "stream",
     "text": [
      "187833789\n"
     ]
    }
   ],
   "source": [
    "sum = 0\n",
    "\n",
    "for match in matches:\n",
    "    sum = sum + (int(match[0])*int(match[1]))\n",
    "\n",
    "print(sum)"
   ]
  },
  {
   "cell_type": "markdown",
   "metadata": {},
   "source": [
    "# Part II"
   ]
  },
  {
   "cell_type": "code",
   "execution_count": 32,
   "metadata": {},
   "outputs": [],
   "source": [
    "dont_split = re.split(r\"don't\\(\\)\", data_content)"
   ]
  },
  {
   "cell_type": "code",
   "execution_count": 68,
   "metadata": {},
   "outputs": [],
   "source": [
    "to_mult = 0\n",
    "pattern = r\"mul\\((-?\\d+),\\s*(-?\\d+)\\)\"\n",
    "\n",
    "for dont in dont_split:\n",
    "    do_split = re.split(r\"do\\(\\)\", dont)\n",
    "\n",
    "    for i in range(1, len(do_split)):\n",
    "        matches = re.findall(pattern, do_split[i])\n",
    "    \n",
    "        for match in matches:\n",
    "            to_mult = to_mult + (int(match[0]) * int(match[1]))"
   ]
  },
  {
   "cell_type": "code",
   "execution_count": 69,
   "metadata": {},
   "outputs": [],
   "source": [
    "# Add mults from firs string as that one was skipped in function\n",
    "first = 0\n",
    "matches1 = re.findall(pattern, dont_split[0])\n",
    "for match in matches1:\n",
    "    first = first + (int(match[0]) * int(match[1]))"
   ]
  },
  {
   "cell_type": "code",
   "execution_count": 70,
   "metadata": {},
   "outputs": [
    {
     "data": {
      "text/plain": [
       "94455185"
      ]
     },
     "execution_count": 70,
     "metadata": {},
     "output_type": "execute_result"
    }
   ],
   "source": [
    "answer = to_mult + first\n",
    "print(answer)"
   ]
  }
 ],
 "metadata": {
  "kernelspec": {
   "display_name": "base",
   "language": "python",
   "name": "python3"
  },
  "language_info": {
   "codemirror_mode": {
    "name": "ipython",
    "version": 3
   },
   "file_extension": ".py",
   "mimetype": "text/x-python",
   "name": "python",
   "nbconvert_exporter": "python",
   "pygments_lexer": "ipython3",
   "version": "3.11.7"
  }
 },
 "nbformat": 4,
 "nbformat_minor": 2
}
