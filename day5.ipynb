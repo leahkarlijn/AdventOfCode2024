{
 "cells": [
  {
   "cell_type": "markdown",
   "metadata": {},
   "source": [
    "# Day 5"
   ]
  },
  {
   "cell_type": "markdown",
   "metadata": {},
   "source": [
    "## Part I"
   ]
  },
  {
   "cell_type": "code",
   "execution_count": 368,
   "metadata": {},
   "outputs": [],
   "source": [
    "data_rules = open(\"day5_rules.txt\", \"r\")\n",
    "data_rules = data_rules.read()  \n",
    "\n",
    "data_rules = data_rules.split('\\n') \n",
    "rules = [list(map(int, pair.split('|'))) for pair in data_rules]"
   ]
  },
  {
   "cell_type": "code",
   "execution_count": 369,
   "metadata": {},
   "outputs": [],
   "source": [
    "data_updates = open(\"day5_updates.txt\", \"r\")\n",
    "data_updates = data_updates.read()  \n",
    "data_updates = data_updates.split('\\n') \n",
    "updates = [[int(x) for x in item.split(',')] for item in data_updates]"
   ]
  },
  {
   "cell_type": "code",
   "execution_count": 370,
   "metadata": {},
   "outputs": [],
   "source": [
    "def find_rules(rules, update):\n",
    "\n",
    "    relevant_rules = []\n",
    "    \n",
    "    for rule in rules:\n",
    "        if rule[0] in update and rule[1] in update:\n",
    "            relevant_rules.append(rule)\n",
    "    \n",
    "    return relevant_rules"
   ]
  },
  {
   "cell_type": "code",
   "execution_count": 371,
   "metadata": {},
   "outputs": [],
   "source": [
    "def check_rules(relevant_rules, update):\n",
    "    for rule in relevant_rules:\n",
    "        if not update.index(rule[0]) < update.index(rule[1]):\n",
    "            return 0\n",
    "    return 1"
   ]
  },
  {
   "cell_type": "code",
   "execution_count": 372,
   "metadata": {},
   "outputs": [
    {
     "name": "stdout",
     "output_type": "stream",
     "text": [
      "5955\n"
     ]
    }
   ],
   "source": [
    "middle_sum = 0\n",
    "\n",
    "for update in updates:\n",
    "    relevant_rules = find_rules(rules, update)\n",
    "    correct_order = check_rules(relevant_rules, update)\n",
    "\n",
    "    if correct_order == 1:\n",
    "        middle_sum = middle_sum + update[int(len(update)/2)]\n",
    "        \n",
    "print(middle_sum)"
   ]
  },
  {
   "cell_type": "markdown",
   "metadata": {},
   "source": [
    "## Part II"
   ]
  },
  {
   "cell_type": "code",
   "execution_count": 373,
   "metadata": {},
   "outputs": [],
   "source": [
    "def check_left(rules, numbers):\n",
    "    left_rules = [rule[0] for rule in rules]\n",
    "    right_rules = [rule[1] for rule in rules]\n",
    "\n",
    "    left_num = list(set([num for num in left_rules if num not in set(right_rules)]))\n",
    "\n",
    "    if len(left_num) == 1:\n",
    "        return left_num"
   ]
  },
  {
   "cell_type": "code",
   "execution_count": 374,
   "metadata": {},
   "outputs": [],
   "source": [
    "def fix_order(rules, update):\n",
    "    new_update = []\n",
    "\n",
    "    while check_left(rules, update):\n",
    "        left_num = check_left(rules, update)\n",
    "        update.remove(left_num[0])\n",
    "        rules = [rule for rule in rules if left_num[0] not in rule]\n",
    "    \n",
    "        new_update.append(left_num[0])\n",
    "        \n",
    "    new_update.append(update[0])\n",
    "    return new_update"
   ]
  },
  {
   "cell_type": "code",
   "execution_count": 375,
   "metadata": {},
   "outputs": [
    {
     "name": "stdout",
     "output_type": "stream",
     "text": [
      "4030\n"
     ]
    }
   ],
   "source": [
    "middle_sum = 0\n",
    "\n",
    "for update in updates:\n",
    "\n",
    "    relevant_rules = find_rules(rules, update)\n",
    "    correct_order = check_rules(relevant_rules, update)\n",
    "    \n",
    "    if correct_order == 0:\n",
    "        new_update = fix_order(relevant_rules, update)\n",
    "        middle_sum = middle_sum + new_update[int(len(new_update)/2)]\n",
    "        correct_order = check_rules(relevant_rules, new_update)\n",
    "        if correct_order == 0:\n",
    "            print(\"AAAAAAAAAAAAAAAAAAAAAAAAAAA\")\n",
    "\n",
    "print(middle_sum)\n"
   ]
  }
 ],
 "metadata": {
  "kernelspec": {
   "display_name": "base",
   "language": "python",
   "name": "python3"
  },
  "language_info": {
   "codemirror_mode": {
    "name": "ipython",
    "version": 3
   },
   "file_extension": ".py",
   "mimetype": "text/x-python",
   "name": "python",
   "nbconvert_exporter": "python",
   "pygments_lexer": "ipython3",
   "version": "3.11.7"
  }
 },
 "nbformat": 4,
 "nbformat_minor": 2
}
