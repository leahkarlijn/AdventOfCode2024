{
 "cells": [
  {
   "cell_type": "code",
   "execution_count": 2,
   "metadata": {},
   "outputs": [],
   "source": [
    "import re\n",
    "import numpy as np"
   ]
  },
  {
   "cell_type": "markdown",
   "metadata": {},
   "source": [
    "# Day 4"
   ]
  },
  {
   "cell_type": "markdown",
   "metadata": {},
   "source": [
    "## Part I"
   ]
  },
  {
   "cell_type": "code",
   "execution_count": 3,
   "metadata": {},
   "outputs": [],
   "source": [
    "# Load data\n",
    "data = open(\"day4.txt\", \"r\")\n",
    "data_horizontal = data.read()  \n",
    "data_horizontal = data_horizontal.split('\\n') "
   ]
  },
  {
   "cell_type": "code",
   "execution_count": 4,
   "metadata": {},
   "outputs": [],
   "source": [
    "def data_vertical(input):\n",
    "    rows = len(input[0])\n",
    "    data_vertical = []\n",
    "\n",
    "    for i in range(rows):\n",
    "        temp = \"\"\n",
    "        for j in range(len(input)):\n",
    "            temp = temp + input[j][i]\n",
    "        data_vertical.append(temp)\n",
    "        \n",
    "    return data_vertical"
   ]
  },
  {
   "cell_type": "code",
   "execution_count": 5,
   "metadata": {},
   "outputs": [],
   "source": [
    "data_vertical = data_vertical(data_horizontal)"
   ]
  },
  {
   "cell_type": "code",
   "execution_count": 6,
   "metadata": {},
   "outputs": [],
   "source": [
    "def by_letter(input):\n",
    "    by_letter = []\n",
    "\n",
    "    for row in input:\n",
    "        row_letters = []\n",
    "        for i in range(len(row)):\n",
    "            row_letters.append(row[i])\n",
    "        by_letter.append(row_letters)\n",
    "    \n",
    "    by_letter = np.array(by_letter)\n",
    "\n",
    "    return by_letter"
   ]
  },
  {
   "cell_type": "code",
   "execution_count": 7,
   "metadata": {},
   "outputs": [],
   "source": [
    "data_by_letter = by_letter(data_horizontal)"
   ]
  },
  {
   "cell_type": "code",
   "execution_count": null,
   "metadata": {},
   "outputs": [],
   "source": [
    "def data_diagonal(input):\n",
    "   \n",
    "    diagonals = []\n",
    "\n",
    "    for i in range(-input.shape[0] + 1, input.shape[1]):  \n",
    "        diagonals.append(''.join(input.diagonal(i)))\n",
    "    \n",
    "    flipped = np.fliplr(input)\n",
    "    for i in range(-flipped.shape[0] + 1, flipped.shape[1]):  \n",
    "        diagonals.append(''.join(flipped.diagonal(i)))\n",
    "    \n",
    "    return diagonals"
   ]
  },
  {
   "cell_type": "code",
   "execution_count": 9,
   "metadata": {},
   "outputs": [],
   "source": [
    "data_diagonals = data_diagonal(data_by_letter)"
   ]
  },
  {
   "cell_type": "code",
   "execution_count": 10,
   "metadata": {},
   "outputs": [],
   "source": [
    "def check_vertical_horizontal(input):\n",
    "    total = 0\n",
    "    pattern = r\"XMAS\"\n",
    "    pattern2 = r\"SAMX\"\n",
    "\n",
    "    for i in range(len(input)):\n",
    "        matches = re.findall(pattern, input[i])\n",
    "        matches2 = re.findall(pattern2, input[i])\n",
    "        total = total + len(matches) + len(matches2)\n",
    "    \n",
    "    return total"
   ]
  },
  {
   "cell_type": "code",
   "execution_count": 11,
   "metadata": {},
   "outputs": [],
   "source": [
    "horizontal_count = check_vertical_horizontal(data_horizontal)\n",
    "vertical_count = check_vertical_horizontal(data_vertical)\n",
    "diagonal_count = check_vertical_horizontal(data_diagonals)"
   ]
  },
  {
   "cell_type": "code",
   "execution_count": 12,
   "metadata": {},
   "outputs": [],
   "source": [
    "total_count = horizontal_count + vertical_count + diagonal_count"
   ]
  },
  {
   "cell_type": "markdown",
   "metadata": {},
   "source": [
    "## Part II"
   ]
  },
  {
   "cell_type": "code",
   "execution_count": null,
   "metadata": {},
   "outputs": [
    {
     "name": "stdout",
     "output_type": "stream",
     "text": [
      "1875\n"
     ]
    }
   ],
   "source": [
    "def count_XMAS(data_by_letter):\n",
    "    count = 0\n",
    "    for x in range(0, data_by_letter.shape[0] - 2):\n",
    "        for y in range(0, data_by_letter.shape[1] - 2):\n",
    "\n",
    "            string = \"\"\n",
    "\n",
    "            pos1 = data_by_letter[x, y]\n",
    "            pos2 = data_by_letter[x, y + 2]\n",
    "            pos3 = data_by_letter[x + 1, y + 1]\n",
    "            pos4 = data_by_letter[x + 2, y]\n",
    "            pos5 = data_by_letter[x + 2, y + 2]\n",
    "\n",
    "            string = pos1 + pos2 + pos3 + pos4 + pos5\n",
    "            \n",
    "            if string in [\"SMASM\", \"MMASS\", \"MSAMS\", \"SSAMM\"]:\n",
    "                count = count + 1\n",
    "\n",
    "    return count\n",
    "\n",
    "count = count_XMAS(data_by_letter)"
   ]
  }
 ],
 "metadata": {
  "kernelspec": {
   "display_name": "base",
   "language": "python",
   "name": "python3"
  },
  "language_info": {
   "codemirror_mode": {
    "name": "ipython",
    "version": 3
   },
   "file_extension": ".py",
   "mimetype": "text/x-python",
   "name": "python",
   "nbconvert_exporter": "python",
   "pygments_lexer": "ipython3",
   "version": "3.11.7"
  }
 },
 "nbformat": 4,
 "nbformat_minor": 2
}
